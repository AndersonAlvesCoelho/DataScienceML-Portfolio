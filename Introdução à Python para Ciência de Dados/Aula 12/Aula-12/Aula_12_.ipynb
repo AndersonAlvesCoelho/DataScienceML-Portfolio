{
 "cells": [
  {
   "attachments": {},
   "cell_type": "markdown",
   "metadata": {},
   "source": [
    "# Vamos Fazer alguns exercícios!!!\n",
    "\n",
    "# 1 - base de dados titanic.csv\n",
    "Contém informações sobre os passageiros do titanic.\n",
    "\n",
    "Realize o tratamento de dados seguindo o que se pede e use algum modelo para prever se o passageiro iria sobreviver ou não."
   ]
  },
  {
   "cell_type": "code",
   "execution_count": null,
   "metadata": {},
   "outputs": [],
   "source": [
    "!pip install pandas sklearn"
   ]
  },
  {
   "cell_type": "code",
   "execution_count": null,
   "metadata": {},
   "outputs": [],
   "source": [
    "# Importar a biblioteca pandas com o apelido pd\n",
    "import pandas as pd\n",
    "from sklearn.model_selection import train_test_split\n",
    "from sklearn.preprocessing import StandardScaler\n",
    "from sklearn.svm import SVC\n",
    "from sklearn.metrics import classification_report, accuracy_score\n",
    "from sklearn.naive_bayes import GaussianNB\n",
    "\n",
    "titanic = '186I9u0vGCOBM7nYOjxjPZKfepFto665k'\n",
    "banco_anonimo = '1i5ih-irqxNOf5_Rvw53b7EerzytthRIx'"
   ]
  },
  {
   "cell_type": "code",
   "execution_count": 54,
   "metadata": {},
   "outputs": [],
   "source": [
    "# Criar a variável df e ler a base de dados\n",
    "df = pd.read_csv(f'https://drive.google.com/uc?export=download&id={titanic}')"
   ]
  },
  {
   "cell_type": "code",
   "execution_count": null,
   "metadata": {},
   "outputs": [],
   "source": [
    "# Exibir as 5 primeiro linhas da base de dados\n",
    "df.head()"
   ]
  },
  {
   "cell_type": "code",
   "execution_count": null,
   "metadata": {},
   "outputs": [],
   "source": [
    "# Exiba informações descritivas dos dados numéricos\n",
    "df.describe()"
   ]
  },
  {
   "cell_type": "code",
   "execution_count": null,
   "metadata": {},
   "outputs": [],
   "source": [
    "# Exiba informações descritivas dos dados textuais\n",
    "df.describe(include=['O'])"
   ]
  },
  {
   "cell_type": "code",
   "execution_count": null,
   "metadata": {},
   "outputs": [],
   "source": [
    "# Exiba a quantidade de linhas da tabela \n",
    "#(Quantidade de passageiros (cada passageiro é uma linha))\n",
    "print(f\"Quantidade de linhas: {df.shape[0]}\")"
   ]
  },
  {
   "cell_type": "code",
   "execution_count": null,
   "metadata": {},
   "outputs": [],
   "source": [
    "# Exiba a quantidade de valores nulos por coluna\n",
    "df.isnull().sum()\n",
    "# df.isnull().mean() * 100"
   ]
  },
  {
   "cell_type": "code",
   "execution_count": null,
   "metadata": {},
   "outputs": [],
   "source": [
    "# Exiba a porcentagem de valores nulos por coluna\n",
    "round((df.isnull().sum() / len(df)) * 100)"
   ]
  },
  {
   "cell_type": "code",
   "execution_count": null,
   "metadata": {},
   "outputs": [],
   "source": [
    "# Exiba o tipo de dados das colunas\n",
    "df.dtypes"
   ]
  },
  {
   "cell_type": "code",
   "execution_count": null,
   "metadata": {},
   "outputs": [],
   "source": [
    "# Exclua a coluna com + de 50% de valores nulos\n",
    "df.loc[:, df.isnull().mean() < 0.5]"
   ]
  },
  {
   "cell_type": "code",
   "execution_count": null,
   "metadata": {},
   "outputs": [],
   "source": [
    "# Exclua a coluna bilhete - esta coluna representa o \n",
    "# identificador do bilhete (Cada bilhete é único)\n",
    "df.drop(columns=['bilhete'])"
   ]
  },
  {
   "cell_type": "code",
   "execution_count": null,
   "metadata": {},
   "outputs": [],
   "source": [
    "# Exclua a coluna nome\n",
    "df.drop(columns=['nome'])"
   ]
  },
  {
   "cell_type": "code",
   "execution_count": null,
   "metadata": {},
   "outputs": [],
   "source": [
    "# Substitua os valores nulos de idade pela moda da coluna\n",
    "df['idade'].fillna(df['idade'].mode()[0], inplace=True)\n",
    "df"
   ]
  },
  {
   "cell_type": "code",
   "execution_count": null,
   "metadata": {},
   "outputs": [],
   "source": [
    "# Converta as colunas textuais (object) para valores numéricos \n",
    "# com o label encoder, com o loc ou com replace (usando dicionário)\n",
    "df['sexo'] = df['sexo'].replace({'male': 0, 'female': 1})\n",
    "df['porto_de_embarque'] = df['porto_de_embarque'].fillna('S') \n",
    "df['porto_de_embarque'] = df['porto_de_embarque'].replace({'S': 0, 'C': 1, 'Q': 2})"
   ]
  },
  {
   "cell_type": "code",
   "execution_count": null,
   "metadata": {},
   "outputs": [],
   "source": [
    "# Separe os dados em X e y\n",
    "X = df.drop(columns=['sobreviveu'])\n",
    "Y = df['sobreviveu']"
   ]
  },
  {
   "cell_type": "code",
   "execution_count": null,
   "metadata": {},
   "outputs": [],
   "source": [
    "# Separe os dados em X e y de Treinamento e Teste com 20% para teste\n",
    "X_train, X_test, y_train, y_test = train_test_split(X, y, test_size=0.2, random_state=42)"
   ]
  },
  {
   "cell_type": "code",
   "execution_count": null,
   "metadata": {},
   "outputs": [],
   "source": [
    "# Normalize X de Treinamento e Teste\n",
    "scaler = StandardScaler()\n",
    "X_train = scaler.fit_transform(X_train)\n",
    "X_test = scaler.transform(X_test)"
   ]
  },
  {
   "cell_type": "code",
   "execution_count": null,
   "metadata": {},
   "outputs": [],
   "source": [
    "# Aplique o algoritmo svm para treinar e, em seguida,\n",
    "# faça as previsões no X de teste e gere as métricas de desempenho do modelo \n",
    "from sklearn.svm import SVC\n",
    "from sklearn.metrics import accuracy_score, confusion_matrix, classification_report\n",
    "\n",
    "svm_model = SVC()\n",
    "svm_model.fit(X_train, y_train)\n",
    "y_pred_svm = svm_model.predict(X_test)\n",
    "\n",
    "print(\"Desempenho do modelo SVM:\")\n",
    "print(classification_report(y_test, y_pred_svm))\n",
    "print(f\"Acurácia: {accuracy_score(y_test, y_pred_svm)}\")"
   ]
  },
  {
   "cell_type": "code",
   "execution_count": null,
   "metadata": {},
   "outputs": [],
   "source": [
    "# Aplique o algoritmo GaussianNB para treinar e, em seguida,\n",
    "# faça as previsões no X de teste e gere as métricas de desempenho do modelo \n",
    "nb_model = GaussianNB()\n",
    "nb_model.fit(X_train, y_train)\n",
    "y_pred_nb = nb_model.predict(X_test)\n",
    "\n",
    "print(\"Desempenho do modelo GaussianNB:\")\n",
    "print(classification_report(y_test, y_pred_nb))\n",
    "print(f\"Acurácia: {accuracy_score(y_test, y_pred_nb)}\")"
   ]
  },
  {
   "attachments": {},
   "cell_type": "markdown",
   "metadata": {},
   "source": [
    "# Maravilha!\n",
    "O que vimos acima é um passo a passo do que devemos fazer até treinar um modelo de machine learning. \n",
    "\n",
    "Resumindo, temos:\n",
    "* 1 - Analisar os dados\n",
    "* 2 - Tratar os dados (Excluir colunas irrelevantes, tratar valores nulos e converter dados textuais para numéricos)\n",
    "* 3 - Preparar os dados para aplicar ao modelo (Separar em X e y, Separar em treinamento e teste e Normalizar)\n",
    "* 4 - Treinar modelos e validar os modelos (com a acurácia e a matriz de confusão)\n",
    "* 5 - Aplicar novos dados \n",
    "\n",
    "# 2 - Base de dados banco_anonimo'.csv\n",
    "Esta base de dados é de outro banco que disponibilizou uma pesquisa com alguns dados anonimizados."
   ]
  },
  {
   "cell_type": "code",
   "execution_count": null,
   "metadata": {},
   "outputs": [],
   "source": [
    "# Realize a leitura da base de dado\n",
    "df = pd.read_csv(f'https://drive.google.com/uc?export=download&id={banco_anonimo}')"
   ]
  },
  {
   "attachments": {},
   "cell_type": "markdown",
   "metadata": {},
   "source": [
    "Vamos exercitar os conhecimentos com o loc"
   ]
  },
  {
   "cell_type": "code",
   "execution_count": null,
   "metadata": {},
   "outputs": [],
   "source": [
    "# Selecione os registros com idade igual a 25\n",
    "idade_25 = df.loc[df['idade'] == 25]\n",
    "print(\"Registros com idade igual a 25:\")\n",
    "print(idade_25)"
   ]
  },
  {
   "cell_type": "code",
   "execution_count": null,
   "metadata": {},
   "outputs": [],
   "source": [
    "# Selecione os registros com idade inferior a 20\n",
    "idade_menor_20 = df.loc[df['idade'] < 20]\n",
    "print(\"\\nRegistros com idade inferior a 20:\")\n",
    "print(idade_menor_20)"
   ]
  },
  {
   "cell_type": "code",
   "execution_count": null,
   "metadata": {},
   "outputs": [],
   "source": [
    "# Selecione os registros com idade superior a 70\n",
    "idade_maior_70 = df.loc[df['idade'] > 70]\n",
    "print(\"\\nRegistros com idade superior a 70:\")\n",
    "print(idade_maior_70)\n"
   ]
  },
  {
   "cell_type": "code",
   "execution_count": null,
   "metadata": {},
   "outputs": [],
   "source": [
    "# Selecione os registros com idade entre 24 e 44 \n",
    "idade_entre_24_44 = df.loc[(df['idade'] >= 24) & (df['idade'] <= 44)]\n",
    "print(\"\\nRegistros com idade entre 24 e 44:\")\n",
    "print(idade_entre_24_44)"
   ]
  },
  {
   "cell_type": "code",
   "execution_count": null,
   "metadata": {},
   "outputs": [],
   "source": [
    "# Selecione os registros de pessoas que possuem casa (yes), tem conta há mais de 300 dias e estão solteiras (single)\n",
    "filtro_casa_conta_solteira = df.loc[(df['casa'] == \"yes\") & (df['dias_conta'] > 300) & (df['estado_civil'] == \"single\")]\n",
    "print(\"\\nRegistros de pessoas com casa, conta há mais de 300 dias e solteiras:\")\n",
    "print(filtro_casa_conta_solteira)"
   ]
  },
  {
   "cell_type": "code",
   "execution_count": null,
   "metadata": {},
   "outputs": [],
   "source": [
    "# Selecione as pessoas que possuem empréstimo, não possuem casa e são casadas (estado_civil = married)\n",
    "filtro_emprestimo_sem_casa_casada = df.loc[(df['emprestimo'] == \"yes\") & (df['casa'] == \"no\") & (df['estado_civil'] == \"married\")]\n",
    "print(\"\\nPessoas com empréstimo, sem casa e casadas:\")\n",
    "print(filtro_emprestimo_sem_casa_casada)"
   ]
  },
  {
   "cell_type": "code",
   "execution_count": null,
   "metadata": {},
   "outputs": [],
   "source": [
    "# Selecione as pessoas que possuem menos de 29 anos e são divorciadas (estado_civil = divorced)\n",
    "filtro_jovens_divorciadas = df.loc[(df['idade'] < 29) & (df['estado_civil'] == \"divorced\")]\n",
    "print(\"\\nPessoas com menos de 29 anos e divorciadas:\")\n",
    "print(filtro_jovens_divorciadas)"
   ]
  },
  {
   "cell_type": "code",
   "execution_count": null,
   "metadata": {},
   "outputs": [],
   "source": [
    "# Selecione as pessoas com emprego de gerente(management) e idade maior que 50\n",
    "filtro_gerente_acima_50 = df.loc[(df['emprego'] == \"management\") & (df['idade'] > 50)]\n",
    "print(\"\\nGerentes com mais de 50 anos:\")\n",
    "print(filtro_gerente_acima_50)"
   ]
  },
  {
   "cell_type": "code",
   "execution_count": null,
   "metadata": {},
   "outputs": [],
   "source": [
    "# Selecione as pessoas com emprego de gerente(management), idade maior que 50 e possuem empréstimo\n",
    "filtro_gerente_acima_50_emprestimo = df.loc[(df['emprego'] == \"management\") & (df['idade'] > 50) & (df['emprestimo'] == \"yes\")]\n",
    "print(\"\\nGerentes com mais de 50 anos e com empréstimo:\")\n",
    "print(filtro_gerente_acima_50_emprestimo)"
   ]
  },
  {
   "attachments": {},
   "cell_type": "markdown",
   "metadata": {},
   "source": [
    "# Realizes os passo de 1 até 4 para aplicar um modelo de machine learning na base banco_anonimo.csv"
   ]
  },
  {
   "cell_type": "markdown",
   "metadata": {},
   "source": [
    "### Passo 1: Análise e Tratamento de Dados"
   ]
  },
  {
   "cell_type": "code",
   "execution_count": null,
   "metadata": {},
   "outputs": [],
   "source": [
    "df = df.dropna()  "
   ]
  },
  {
   "cell_type": "markdown",
   "metadata": {},
   "source": [
    "#### Passo 2: Separação entre X (independentes) e y (dependente)"
   ]
  },
  {
   "cell_type": "code",
   "execution_count": null,
   "metadata": {},
   "outputs": [],
   "source": [
    "df['casa'] = df['casa'].map({'yes': 1, 'no': 0})\n",
    "df['emprestimo'] = df['emprestimo'].map({'yes': 1, 'no': 0})\n",
    "df['estado_civil'] = df['estado_civil'].map({'single': 0, 'married': 1, 'divorced': 2})"
   ]
  },
  {
   "cell_type": "markdown",
   "metadata": {},
   "source": [
    "#### Passo 3: Separação em dados de treino e teste"
   ]
  },
  {
   "cell_type": "code",
   "execution_count": null,
   "metadata": {},
   "outputs": [],
   "source": [
    "train_size = int(0.8 * len(X))\n",
    "X_train, X_test = X[:train_size], X[train_size:]\n",
    "y_train, y_test = y[:train_size], y[train_size:]"
   ]
  },
  {
   "cell_type": "markdown",
   "metadata": {},
   "source": [
    "#### Passo 4: Normalização dos dados de treino e teste (simplificado)"
   ]
  },
  {
   "cell_type": "code",
   "execution_count": null,
   "metadata": {},
   "outputs": [],
   "source": [
    "X_train = (X_train - X_train.min()) / (X_train.max() - X_train.min())\n",
    "X_test = (X_test - X_test.min()) / (X_test.max() - X_test.min())"
   ]
  },
  {
   "cell_type": "markdown",
   "metadata": {},
   "source": [
    "### Resultado"
   ]
  },
  {
   "cell_type": "code",
   "execution_count": null,
   "metadata": {},
   "outputs": [],
   "source": [
    "df"
   ]
  }
 ],
 "metadata": {
  "kernelspec": {
   "display_name": "Python 3",
   "language": "python",
   "name": "python3"
  },
  "language_info": {
   "codemirror_mode": {
    "name": "ipython",
    "version": 3
   },
   "file_extension": ".py",
   "mimetype": "text/x-python",
   "name": "python",
   "nbconvert_exporter": "python",
   "pygments_lexer": "ipython3",
   "version": "3.12.5"
  },
  "orig_nbformat": 4
 },
 "nbformat": 4,
 "nbformat_minor": 2
}
