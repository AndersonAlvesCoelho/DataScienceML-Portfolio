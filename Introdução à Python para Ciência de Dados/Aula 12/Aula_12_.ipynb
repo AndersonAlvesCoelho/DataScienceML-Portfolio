{
 "cells": [
  {
   "attachments": {},
   "cell_type": "markdown",
   "metadata": {},
   "source": [
    "# Vamos Fazer alguns exercícios!!!\n",
    "\n",
    "# 1 - base de dados titanic.csv\n",
    "Contém informações sobre os passageiros do titanic.\n",
    "\n",
    "Realize o tratamento de dados seguindo o que se pede e use algum modelo para prever se o passageiro iria sobreviver ou não."
   ]
  },
  {
   "cell_type": "code",
   "execution_count": 153,
   "metadata": {},
   "outputs": [
    {
     "name": "stdout",
     "output_type": "stream",
     "text": [
      "Requirement already satisfied: pandas in c:\\users\\user\\appdata\\local\\programs\\python\\python38\\lib\\site-packages (1.5.3)\n",
      "Collecting scikit-learn\n",
      "  Downloading scikit_learn-1.3.2-cp38-cp38-win_amd64.whl.metadata (11 kB)\n",
      "Requirement already satisfied: python-dateutil>=2.8.1 in c:\\users\\user\\appdata\\roaming\\python\\python38\\site-packages (from pandas) (2.9.0.post0)\n",
      "Requirement already satisfied: pytz>=2020.1 in c:\\users\\user\\appdata\\local\\programs\\python\\python38\\lib\\site-packages (from pandas) (2024.2)\n",
      "Requirement already satisfied: numpy>=1.20.3 in c:\\users\\user\\appdata\\local\\programs\\python\\python38\\lib\\site-packages (from pandas) (1.24.3)\n",
      "Collecting scipy>=1.5.0 (from scikit-learn)\n",
      "  Downloading scipy-1.10.1-cp38-cp38-win_amd64.whl.metadata (58 kB)\n",
      "Collecting joblib>=1.1.1 (from scikit-learn)\n",
      "  Downloading joblib-1.4.2-py3-none-any.whl.metadata (5.4 kB)\n",
      "Collecting threadpoolctl>=2.0.0 (from scikit-learn)\n",
      "  Downloading threadpoolctl-3.5.0-py3-none-any.whl.metadata (13 kB)\n",
      "Requirement already satisfied: six>=1.5 in c:\\users\\user\\appdata\\roaming\\python\\python38\\site-packages (from python-dateutil>=2.8.1->pandas) (1.16.0)\n",
      "Downloading scikit_learn-1.3.2-cp38-cp38-win_amd64.whl (9.3 MB)\n",
      "   ---------------------------------------- 0.0/9.3 MB ? eta -:--:--\n",
      "   - -------------------------------------- 0.3/9.3 MB ? eta -:--:--\n",
      "   -- ------------------------------------- 0.5/9.3 MB 1.9 MB/s eta 0:00:05\n",
      "   --- ------------------------------------ 0.8/9.3 MB 1.9 MB/s eta 0:00:05\n",
      "   ---- ----------------------------------- 1.0/9.3 MB 1.7 MB/s eta 0:00:05\n",
      "   ------ --------------------------------- 1.6/9.3 MB 1.6 MB/s eta 0:00:05\n",
      "   --------- ------------------------------ 2.1/9.3 MB 1.7 MB/s eta 0:00:05\n",
      "   ---------- ----------------------------- 2.4/9.3 MB 1.7 MB/s eta 0:00:05\n",
      "   ------------ --------------------------- 2.9/9.3 MB 1.8 MB/s eta 0:00:04\n",
      "   -------------- ------------------------- 3.4/9.3 MB 1.8 MB/s eta 0:00:04\n",
      "   ---------------- ----------------------- 3.9/9.3 MB 1.9 MB/s eta 0:00:03\n",
      "   ------------------- -------------------- 4.5/9.3 MB 2.0 MB/s eta 0:00:03\n",
      "   -------------------- ------------------- 4.7/9.3 MB 2.0 MB/s eta 0:00:03\n",
      "   -------------------- ------------------- 4.7/9.3 MB 2.0 MB/s eta 0:00:03\n",
      "   --------------------- ------------------ 5.0/9.3 MB 1.8 MB/s eta 0:00:03\n",
      "   --------------------- ------------------ 5.0/9.3 MB 1.8 MB/s eta 0:00:03\n",
      "   --------------------- ------------------ 5.0/9.3 MB 1.8 MB/s eta 0:00:03\n",
      "   ----------------------- ---------------- 5.5/9.3 MB 1.5 MB/s eta 0:00:03\n",
      "   ------------------------ --------------- 5.8/9.3 MB 1.5 MB/s eta 0:00:03\n",
      "   -------------------------- ------------- 6.0/9.3 MB 1.5 MB/s eta 0:00:03\n",
      "   -------------------------- ------------- 6.0/9.3 MB 1.5 MB/s eta 0:00:03\n",
      "   ---------------------------- ----------- 6.6/9.3 MB 1.5 MB/s eta 0:00:02\n",
      "   ----------------------------- ---------- 6.8/9.3 MB 1.5 MB/s eta 0:00:02\n",
      "   ------------------------------ --------- 7.1/9.3 MB 1.5 MB/s eta 0:00:02\n",
      "   ------------------------------- -------- 7.3/9.3 MB 1.5 MB/s eta 0:00:02\n",
      "   -------------------------------- ------- 7.6/9.3 MB 1.4 MB/s eta 0:00:02\n",
      "   ----------------------------------- ---- 8.1/9.3 MB 1.5 MB/s eta 0:00:01\n",
      "   ----------------------------------- ---- 8.1/9.3 MB 1.5 MB/s eta 0:00:01\n",
      "   ------------------------------------ --- 8.4/9.3 MB 1.4 MB/s eta 0:00:01\n",
      "   ------------------------------------- -- 8.7/9.3 MB 1.4 MB/s eta 0:00:01\n",
      "   ------------------------------------- -- 8.7/9.3 MB 1.4 MB/s eta 0:00:01\n",
      "   -------------------------------------- - 8.9/9.3 MB 1.4 MB/s eta 0:00:01\n",
      "   ---------------------------------------- 9.3/9.3 MB 1.4 MB/s eta 0:00:00\n",
      "Downloading joblib-1.4.2-py3-none-any.whl (301 kB)\n",
      "Downloading scipy-1.10.1-cp38-cp38-win_amd64.whl (42.2 MB)\n",
      "   ---------------------------------------- 0.0/42.2 MB ? eta -:--:--\n",
      "   ---------------------------------------- 0.3/42.2 MB ? eta -:--:--\n",
      "    --------------------------------------- 0.8/42.2 MB 2.4 MB/s eta 0:00:18\n",
      "    --------------------------------------- 1.0/42.2 MB 2.2 MB/s eta 0:00:19\n",
      "   - -------------------------------------- 1.6/42.2 MB 2.0 MB/s eta 0:00:21\n",
      "   - -------------------------------------- 2.1/42.2 MB 2.1 MB/s eta 0:00:20\n",
      "   -- ------------------------------------- 2.9/42.2 MB 2.3 MB/s eta 0:00:18\n",
      "   --- ------------------------------------ 3.4/42.2 MB 2.3 MB/s eta 0:00:17\n",
      "   --- ------------------------------------ 3.9/42.2 MB 2.4 MB/s eta 0:00:17\n",
      "   ---- ----------------------------------- 4.5/42.2 MB 2.4 MB/s eta 0:00:16\n",
      "   ---- ----------------------------------- 5.0/42.2 MB 2.4 MB/s eta 0:00:16\n",
      "   ----- ---------------------------------- 5.8/42.2 MB 2.5 MB/s eta 0:00:15\n",
      "   ------ --------------------------------- 6.6/42.2 MB 2.6 MB/s eta 0:00:14\n",
      "   ------ --------------------------------- 7.3/42.2 MB 2.6 MB/s eta 0:00:14\n",
      "   ------- -------------------------------- 8.1/42.2 MB 2.7 MB/s eta 0:00:13\n",
      "   -------- ------------------------------- 8.9/42.2 MB 2.8 MB/s eta 0:00:12\n",
      "   --------- ------------------------------ 9.7/42.2 MB 2.8 MB/s eta 0:00:12\n",
      "   --------- ------------------------------ 10.2/42.2 MB 2.8 MB/s eta 0:00:12\n",
      "   ---------- ----------------------------- 10.7/42.2 MB 2.8 MB/s eta 0:00:12\n",
      "   ---------- ----------------------------- 11.3/42.2 MB 2.8 MB/s eta 0:00:11\n",
      "   ----------- ---------------------------- 12.1/42.2 MB 2.9 MB/s eta 0:00:11\n",
      "   ------------ --------------------------- 12.8/42.2 MB 2.9 MB/s eta 0:00:11\n",
      "   ------------- -------------------------- 13.9/42.2 MB 3.0 MB/s eta 0:00:10\n",
      "   -------------- ------------------------- 14.9/42.2 MB 3.1 MB/s eta 0:00:09\n",
      "   -------------- ------------------------- 15.5/42.2 MB 3.1 MB/s eta 0:00:09\n",
      "   --------------- ------------------------ 16.5/42.2 MB 3.1 MB/s eta 0:00:09\n",
      "   ---------------- ----------------------- 17.8/42.2 MB 3.2 MB/s eta 0:00:08\n",
      "   ----------------- ---------------------- 18.9/42.2 MB 3.3 MB/s eta 0:00:08\n",
      "   ------------------ --------------------- 19.9/42.2 MB 3.4 MB/s eta 0:00:07\n",
      "   -------------------- ------------------- 21.2/42.2 MB 3.4 MB/s eta 0:00:07\n",
      "   --------------------- ------------------ 22.5/42.2 MB 3.5 MB/s eta 0:00:06\n",
      "   ---------------------- ----------------- 23.6/42.2 MB 3.6 MB/s eta 0:00:06\n",
      "   ----------------------- ---------------- 24.9/42.2 MB 3.7 MB/s eta 0:00:05\n",
      "   ------------------------ --------------- 26.2/42.2 MB 3.8 MB/s eta 0:00:05\n",
      "   -------------------------- ------------- 27.5/42.2 MB 3.8 MB/s eta 0:00:04\n",
      "   -------------------------- ------------- 28.3/42.2 MB 3.8 MB/s eta 0:00:04\n",
      "   ---------------------------- ----------- 29.6/42.2 MB 3.9 MB/s eta 0:00:04\n",
      "   ----------------------------- ---------- 30.9/42.2 MB 3.9 MB/s eta 0:00:03\n",
      "   ------------------------------ --------- 32.2/42.2 MB 4.0 MB/s eta 0:00:03\n",
      "   -------------------------------- ------- 33.8/42.2 MB 4.1 MB/s eta 0:00:03\n",
      "   --------------------------------- ------ 34.9/42.2 MB 4.2 MB/s eta 0:00:02\n",
      "   ---------------------------------- ----- 36.2/42.2 MB 4.2 MB/s eta 0:00:02\n",
      "   ----------------------------------- ---- 37.2/42.2 MB 4.2 MB/s eta 0:00:02\n",
      "   ------------------------------------ --- 38.3/42.2 MB 4.2 MB/s eta 0:00:01\n",
      "   ------------------------------------ --- 38.8/42.2 MB 4.2 MB/s eta 0:00:01\n",
      "   ------------------------------------- -- 39.6/42.2 MB 4.2 MB/s eta 0:00:01\n",
      "   -------------------------------------- - 40.4/42.2 MB 4.1 MB/s eta 0:00:01\n",
      "   -------------------------------------- - 40.9/42.2 MB 4.1 MB/s eta 0:00:01\n",
      "   ---------------------------------------  41.7/42.2 MB 4.1 MB/s eta 0:00:01\n",
      "   ---------------------------------------  42.2/42.2 MB 4.1 MB/s eta 0:00:01\n",
      "   ---------------------------------------- 42.2/42.2 MB 4.0 MB/s eta 0:00:00\n",
      "Downloading threadpoolctl-3.5.0-py3-none-any.whl (18 kB)\n",
      "Installing collected packages: threadpoolctl, scipy, joblib, scikit-learn\n",
      "Successfully installed joblib-1.4.2 scikit-learn-1.3.2 scipy-1.10.1 threadpoolctl-3.5.0\n"
     ]
    }
   ],
   "source": [
    "!pip install pandas scikit-learn"
   ]
  },
  {
   "cell_type": "code",
   "execution_count": null,
   "metadata": {},
   "outputs": [],
   "source": [
    "# Importar a biblioteca pandas com o apelido pd\n",
    "import pandas as pd"
   ]
  },
  {
   "cell_type": "code",
   "execution_count": null,
   "metadata": {},
   "outputs": [],
   "source": [
    "# Criar a variável df e ler a base de dados\n",
    "df = pd.read_csv('titanic.csv')"
   ]
  },
  {
   "cell_type": "code",
   "execution_count": null,
   "metadata": {},
   "outputs": [],
   "source": [
    "# Exibir as 5 primeiro linhas da base de dados\n",
    "df.head()"
   ]
  },
  {
   "cell_type": "code",
   "execution_count": null,
   "metadata": {},
   "outputs": [],
   "source": [
    "# Exiba informações descritivas dos dados numéricos\n",
    "df.describe()"
   ]
  },
  {
   "cell_type": "code",
   "execution_count": null,
   "metadata": {},
   "outputs": [],
   "source": [
    "# Exiba informações descritivas dos dados textuais\n",
    "df.describe(include=['object'])"
   ]
  },
  {
   "cell_type": "code",
   "execution_count": null,
   "metadata": {},
   "outputs": [],
   "source": [
    "# Exiba a quantidade de linhas da tabela \n",
    "#(Quantidade de passageiros (cada passageiro é uma linha))\n",
    "print(f\"Quantidade de linhas: {df.shape[0]}\")"
   ]
  },
  {
   "cell_type": "code",
   "execution_count": null,
   "metadata": {},
   "outputs": [],
   "source": [
    "# Exiba a quantidade de valores nulos por coluna\n",
    "df.isnull().sum()"
   ]
  },
  {
   "cell_type": "code",
   "execution_count": null,
   "metadata": {},
   "outputs": [],
   "source": [
    "# Exiba a porcentagem de valores nulos por coluna\n",
    "round((df.isnull().sum() / len(df)) * 100)"
   ]
  },
  {
   "cell_type": "code",
   "execution_count": null,
   "metadata": {},
   "outputs": [],
   "source": [
    "# Exiba o tipo de dados das colunas\n",
    "df.dtypes"
   ]
  },
  {
   "cell_type": "code",
   "execution_count": null,
   "metadata": {},
   "outputs": [],
   "source": [
    "# Exclua a coluna com + de 50% de valores nulos\n",
    "df.loc[:, df.isnull().mean() < 0.5]"
   ]
  },
  {
   "cell_type": "code",
   "execution_count": null,
   "metadata": {},
   "outputs": [],
   "source": [
    "# Exclua a coluna bilhete - esta coluna representa o \n",
    "# identificador do bilhete (Cada bilhete é único)\n",
    "df.drop(columns=['bilhete'])"
   ]
  },
  {
   "cell_type": "code",
   "execution_count": null,
   "metadata": {},
   "outputs": [],
   "source": [
    "# Exclua a coluna nome\n",
    "df.drop(columns=['nome'])"
   ]
  },
  {
   "cell_type": "code",
   "execution_count": null,
   "metadata": {},
   "outputs": [],
   "source": [
    "# Substitua os valores nulos de idade pela moda da coluna\n",
    "df['idade'].fillna(df['idade'].mode()[0], inplace=True)\n",
    "df"
   ]
  },
  {
   "cell_type": "code",
   "execution_count": null,
   "metadata": {},
   "outputs": [],
   "source": [
    "# Converta as colunas textuais (object) para valores numéricos \n",
    "# com o label encoder, com o loc ou com replace (usando dicionário)\n",
    "text_columns = df.select_dtypes(include=['object']).columns\n",
    "\n",
    "for col in text_columns:\n",
    "    df[col] = df[col].fillna('Unknown')\n",
    "\n",
    "    unique_values = df[col].unique() \n",
    "    value_map = {val: idx for idx, val in enumerate(unique_values)} \n",
    "    \n",
    "    df[col] = df[col].map(value_map)\n",
    "df"
   ]
  },
  {
   "cell_type": "code",
   "execution_count": 149,
   "metadata": {},
   "outputs": [
    {
     "name": "stdout",
     "output_type": "stream",
     "text": [
      "X (Variáveis independentes):\n",
      "     identificacao  classe_da_passagem  nome  sexo  idade  irmaos_a_bordo  \\\n",
      "0              331                   3   330     1   24.0               2   \n",
      "1              182                   2   181     0   24.0               0   \n",
      "2              641                   3   640     0   20.0               0   \n",
      "3              523                   3   522     0   24.0               0   \n",
      "4              207                   3   206     0   32.0               1   \n",
      "..             ...                 ...   ...   ...    ...             ...   \n",
      "886            625                   3   624     0   21.0               0   \n",
      "887            573                   1   572     0   36.0               0   \n",
      "888            297                   3   296     0   23.5               0   \n",
      "889            110                   3   109     1   24.0               1   \n",
      "890            526                   3   525     0   40.5               0   \n",
      "\n",
      "     pais_ou_filhos_a_bordo  bilhete  valor_bilhete  porto_de_embarque  \n",
      "0                         0      269        23.2500                  2  \n",
      "1                         0      164        15.0500                  1  \n",
      "2                         0      519         7.8542                  0  \n",
      "3                         0      437         7.2250                  1  \n",
      "4                         0       83        15.8500                  0  \n",
      "..                      ...      ...            ...                ...  \n",
      "886                       0      508        16.1000                  0  \n",
      "887                       0      473        26.3875                  0  \n",
      "888                       0      265         7.2292                  1  \n",
      "889                       0      106        24.1500                  2  \n",
      "890                       0      439         7.7500                  2  \n",
      "\n",
      "[891 rows x 10 columns]\n",
      "\n",
      "\n",
      "y (Variável dependente):\n",
      "0      1\n",
      "1      0\n",
      "2      0\n",
      "3      0\n",
      "4      0\n",
      "      ..\n",
      "886    0\n",
      "887    1\n",
      "888    0\n",
      "889    1\n",
      "890    0\n",
      "Name: sobreviveu, Length: 891, dtype: int64\n"
     ]
    }
   ],
   "source": [
    "# Separe os dados em X e y\n",
    "y = df['sobreviveu']\n",
    "x = df.drop('sobreviveu', axis=1)\n",
    "\n",
    "print(\"X (Variáveis independentes):\")\n",
    "print(x)\n",
    "print(\"\\n\")\n",
    "print(\"y (Variável dependente):\")\n",
    "print(y)"
   ]
  },
  {
   "cell_type": "code",
   "execution_count": 150,
   "metadata": {},
   "outputs": [
    {
     "name": "stdout",
     "output_type": "stream",
     "text": [
      "X (Variáveis Independentes) - Treinamento:\n",
      "     identificacao  classe_da_passagem  nome  sexo  idade  irmaos_a_bordo  \\\n",
      "709            694                   3   693     0   25.0               0   \n",
      "439            383                   3   382     0   32.0               0   \n",
      "840            326                   1   325     1   36.0               0   \n",
      "720             20                   3    19     1   24.0               0   \n",
      "39             714                   3   713     0   29.0               0   \n",
      "\n",
      "     pais_ou_filhos_a_bordo  bilhete  valor_bilhete  porto_de_embarque  \n",
      "709                       0      553         7.2250                  1  \n",
      "439                       0      329         7.9250                  0  \n",
      "840                       0      240       135.6333                  1  \n",
      "720                       0       19         7.2250                  1  \n",
      "39                        0      566         9.4833                  0   \n",
      "\n",
      "y (Variável Dependente) - Treinamento:\n",
      "709    0\n",
      "439    0\n",
      "840    1\n",
      "720    1\n",
      "39     0\n",
      "Name: sobreviveu, dtype: int64 \n",
      "\n",
      "X (Variáveis Independentes) - Teste:\n",
      "     identificacao  classe_da_passagem  nome  sexo  idade  irmaos_a_bordo  \\\n",
      "761            387                   3   386     0    1.0               5   \n",
      "645            631                   1   630     0   80.0               0   \n",
      "754            700                   3   699     0   42.0               0   \n",
      "556            216                   1   215     1   31.0               1   \n",
      "850            261                   3   260     0   24.0               0   \n",
      "\n",
      "     pais_ou_filhos_a_bordo  bilhete  valor_bilhete  porto_de_embarque  \n",
      "761                       2       58         46.900                  0  \n",
      "645                       0      513         30.000                  0  \n",
      "754                       0      558          7.650                  0  \n",
      "556                       0      193        113.275                  1  \n",
      "850                       0      233          7.750                  2   \n",
      "\n",
      "y (Variável Dependente) - Teste:\n",
      "761    0\n",
      "645    1\n",
      "754    0\n",
      "556    1\n",
      "850    0\n",
      "Name: sobreviveu, dtype: int64\n"
     ]
    }
   ],
   "source": [
    "# Separe os dados em X e y de Treinamento e Teste com 20% para teste\n",
    "\n",
    "y = df['sobreviveu']\n",
    "X = df.drop('sobreviveu', axis=1)\n",
    "df_shuffled = df.sample(frac=1, random_state=42)\n",
    "\n",
    "test_size = int(len(df) * 0.2)\n",
    "X_train = df_shuffled.drop('sobreviveu', axis=1).iloc[:-test_size]\n",
    "X_test = df_shuffled.drop('sobreviveu', axis=1).iloc[-test_size:]\n",
    "y_train = df_shuffled['sobreviveu'].iloc[:-test_size]\n",
    "y_test = df_shuffled['sobreviveu'].iloc[-test_size:]\n",
    "\n",
    "print(\"X (Variáveis Independentes) - Treinamento:\")\n",
    "print(X_train.head(), \"\\n\")  \n",
    "\n",
    "print(\"y (Variável Dependente) - Treinamento:\")\n",
    "print(y_train.head(), \"\\n\")  \n",
    "\n",
    "print(\"X (Variáveis Independentes) - Teste:\")\n",
    "print(X_test.head(), \"\\n\")  \n",
    "\n",
    "print(\"y (Variável Dependente) - Teste:\")\n",
    "print(y_test.head())  \n"
   ]
  },
  {
   "cell_type": "code",
   "execution_count": null,
   "metadata": {},
   "outputs": [],
   "source": [
    "# Normalize X de Treinamento e Teste\n",
    "X_train_normalized = (X_train - X_train.min()) / (X_train.max() - X_train.min())\n",
    "X_test_normalized = (X_test - X_test.min()) / (X_test.max() - X_test.min())\n",
    "\n",
    "print(\"X (Variáveis Independentes) - Treinamento Normalizado:\")\n",
    "print(X_train_normalized.head(), \"\\n\")\n",
    "\n",
    "print(\"X (Variáveis Independentes) - Teste Normalizado:\")\n",
    "print(X_test_normalized.head())"
   ]
  },
  {
   "cell_type": "code",
   "execution_count": 154,
   "metadata": {},
   "outputs": [
    {
     "name": "stdout",
     "output_type": "stream",
     "text": [
      "Acurácia SVM: 0.6292134831460674\n",
      "Matriz de Confusão SVM:\n",
      " [[103   3]\n",
      " [ 63   9]]\n",
      "Relatório de Classificação SVM:\n",
      "               precision    recall  f1-score   support\n",
      "\n",
      "           0       0.62      0.97      0.76       106\n",
      "           1       0.75      0.12      0.21        72\n",
      "\n",
      "    accuracy                           0.63       178\n",
      "   macro avg       0.69      0.55      0.49       178\n",
      "weighted avg       0.67      0.63      0.54       178\n",
      "\n"
     ]
    }
   ],
   "source": [
    "# Aplique o algoritmo svm para treinar e, em seguida,\n",
    "# faça as previsões no X de teste e gere as métricas de desempenho do modelo \n",
    "from sklearn.svm import SVC\n",
    "from sklearn.metrics import accuracy_score, confusion_matrix, classification_report\n",
    "\n",
    "# Treinar o modelo SVM\n",
    "svm_model = SVC()\n",
    "svm_model.fit(X_train, y_train)\n",
    "\n",
    "# Fazer previsões no conjunto de teste\n",
    "y_pred_svm = svm_model.predict(X_test)\n",
    "\n",
    "# Gerar as métricas de desempenho\n",
    "accuracy_svm = accuracy_score(y_test, y_pred_svm)\n",
    "confusion_svm = confusion_matrix(y_test, y_pred_svm)\n",
    "classification_svm = classification_report(y_test, y_pred_svm)\n",
    "\n",
    "# Exibir as métricas\n",
    "print(f\"Acurácia SVM: {accuracy_svm}\")\n",
    "print(\"Matriz de Confusão SVM:\\n\", confusion_svm)\n",
    "print(\"Relatório de Classificação SVM:\\n\", classification_svm)\n"
   ]
  },
  {
   "cell_type": "code",
   "execution_count": null,
   "metadata": {},
   "outputs": [],
   "source": [
    "# Aplique o algoritmo GaussianNB para treinar e, em seguida,\n",
    "# faça as previsões no X de teste e gere as métricas de desempenho do modelo \n"
   ]
  },
  {
   "attachments": {},
   "cell_type": "markdown",
   "metadata": {},
   "source": [
    "# Maravilha!\n",
    "O que vimos acima é um passo a passo do que devemos fazer até treinar um modelo de machine learning. \n",
    "\n",
    "Resumindo, temos:\n",
    "* 1 - Analisar os dados\n",
    "* 2 - Tratar os dados (Excluir colunas irrelevantes, tratar valores nulos e converter dados textuais para numéricos)\n",
    "* 3 - Preparar os dados para aplicar ao modelo (Separar em X e y, Separar em treinamento e teste e Normalizar)\n",
    "* 4 - Treinar modelos e validar os modelos (com a acurácia e a matriz de confusão)\n",
    "* 5 - Aplicar novos dados \n",
    "\n",
    "# 2 - Base de dados banco_anonimo.csv\n",
    "Esta base de dados é de outro banco que disponibilizou uma pesquisa com alguns dados anonimizados."
   ]
  },
  {
   "cell_type": "code",
   "execution_count": null,
   "metadata": {},
   "outputs": [],
   "source": [
    "# Realize a leitura da base de dados\n"
   ]
  },
  {
   "attachments": {},
   "cell_type": "markdown",
   "metadata": {},
   "source": [
    "Vamos exercitar os conhecimentos com o loc"
   ]
  },
  {
   "cell_type": "code",
   "execution_count": null,
   "metadata": {},
   "outputs": [],
   "source": [
    "# Selecione os registros com idade igual a 25\n"
   ]
  },
  {
   "cell_type": "code",
   "execution_count": null,
   "metadata": {},
   "outputs": [],
   "source": [
    "# Selecione os registros com idade inferior a 20\n"
   ]
  },
  {
   "cell_type": "code",
   "execution_count": null,
   "metadata": {},
   "outputs": [],
   "source": [
    "# Selecione os registros com idade superior a 70\n"
   ]
  },
  {
   "cell_type": "code",
   "execution_count": null,
   "metadata": {},
   "outputs": [],
   "source": [
    "# Selecione os registros com idade entre 24 e 44 \n"
   ]
  },
  {
   "cell_type": "code",
   "execution_count": null,
   "metadata": {},
   "outputs": [],
   "source": [
    "# Selecione os registros de pessoas que possuem casa (yes), tem conta há mais de 300 dias e estão solteiras (single)\n"
   ]
  },
  {
   "cell_type": "code",
   "execution_count": null,
   "metadata": {},
   "outputs": [],
   "source": [
    "# Selecione as pessoas que possuem empréstimo, não possuem casa e são casadas (estado_civil = married)\n"
   ]
  },
  {
   "cell_type": "code",
   "execution_count": null,
   "metadata": {},
   "outputs": [],
   "source": [
    "# Selecione as pessoas que possuem menos de 29 anos e são divorciadas (estado_civil = divorced)\n"
   ]
  },
  {
   "cell_type": "code",
   "execution_count": null,
   "metadata": {},
   "outputs": [],
   "source": [
    "# Selecione as pessoas com emprego de gerente(management) e idade maior que 50\n"
   ]
  },
  {
   "cell_type": "code",
   "execution_count": null,
   "metadata": {},
   "outputs": [],
   "source": [
    "# Selecione as pessoas com emprego de gerente(management), idade maior que 50 e possuem empréstimo\n"
   ]
  },
  {
   "attachments": {},
   "cell_type": "markdown",
   "metadata": {},
   "source": [
    "# Realizes os passo de 1 até 4 para aplicar um modelo de machine learning na base banco_anonimo.csv"
   ]
  },
  {
   "cell_type": "code",
   "execution_count": null,
   "metadata": {},
   "outputs": [],
   "source": []
  },
  {
   "cell_type": "code",
   "execution_count": null,
   "metadata": {},
   "outputs": [],
   "source": []
  },
  {
   "cell_type": "code",
   "execution_count": null,
   "metadata": {},
   "outputs": [],
   "source": []
  },
  {
   "cell_type": "code",
   "execution_count": null,
   "metadata": {},
   "outputs": [],
   "source": []
  },
  {
   "cell_type": "code",
   "execution_count": null,
   "metadata": {},
   "outputs": [],
   "source": []
  },
  {
   "cell_type": "code",
   "execution_count": null,
   "metadata": {},
   "outputs": [],
   "source": []
  },
  {
   "cell_type": "code",
   "execution_count": null,
   "metadata": {},
   "outputs": [],
   "source": []
  },
  {
   "cell_type": "code",
   "execution_count": null,
   "metadata": {},
   "outputs": [],
   "source": []
  },
  {
   "cell_type": "code",
   "execution_count": null,
   "metadata": {},
   "outputs": [],
   "source": []
  },
  {
   "cell_type": "code",
   "execution_count": null,
   "metadata": {},
   "outputs": [],
   "source": []
  },
  {
   "cell_type": "code",
   "execution_count": null,
   "metadata": {},
   "outputs": [],
   "source": []
  },
  {
   "cell_type": "code",
   "execution_count": null,
   "metadata": {},
   "outputs": [],
   "source": []
  },
  {
   "cell_type": "code",
   "execution_count": null,
   "metadata": {},
   "outputs": [],
   "source": []
  },
  {
   "cell_type": "code",
   "execution_count": null,
   "metadata": {},
   "outputs": [],
   "source": []
  },
  {
   "cell_type": "code",
   "execution_count": null,
   "metadata": {},
   "outputs": [],
   "source": []
  },
  {
   "cell_type": "code",
   "execution_count": null,
   "metadata": {},
   "outputs": [],
   "source": []
  },
  {
   "cell_type": "code",
   "execution_count": null,
   "metadata": {},
   "outputs": [],
   "source": []
  },
  {
   "cell_type": "code",
   "execution_count": null,
   "metadata": {},
   "outputs": [],
   "source": []
  },
  {
   "cell_type": "code",
   "execution_count": null,
   "metadata": {},
   "outputs": [],
   "source": []
  },
  {
   "cell_type": "code",
   "execution_count": null,
   "metadata": {},
   "outputs": [],
   "source": []
  }
 ],
 "metadata": {
  "kernelspec": {
   "display_name": "Python 3",
   "language": "python",
   "name": "python3"
  },
  "language_info": {
   "codemirror_mode": {
    "name": "ipython",
    "version": 3
   },
   "file_extension": ".py",
   "mimetype": "text/x-python",
   "name": "python",
   "nbconvert_exporter": "python",
   "pygments_lexer": "ipython3",
   "version": "3.8.8"
  },
  "orig_nbformat": 4
 },
 "nbformat": 4,
 "nbformat_minor": 2
}
